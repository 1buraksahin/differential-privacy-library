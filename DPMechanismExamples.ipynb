{
 "cells": [
  {
   "cell_type": "code",
   "execution_count": 1,
   "metadata": {},
   "outputs": [],
   "source": [
    "import numpy as np\n",
    "import DPMechanism as dp\n",
    "import matplotlib.pyplot as plt\n",
    "from time import time"
   ]
  },
  {
   "cell_type": "markdown",
   "metadata": {},
   "source": [
    "# Exponential mechanism"
   ]
  },
  {
   "cell_type": "markdown",
   "metadata": {},
   "source": [
    "## Classic exponential mechanism"
   ]
  },
  {
   "cell_type": "code",
   "execution_count": 2,
   "metadata": {},
   "outputs": [
    {
     "name": "stdout",
     "output_type": "stream",
     "text": [
      "{'7': 22102, 'B': 13754, 'A': 13791, 'C': 36892, '*': 13461}\n"
     ]
    }
   ],
   "source": [
    "utilityList = [\n",
    "    [\"A\", \"B\", 1],\n",
    "    [\"A\", \"C\", 2],\n",
    "    [\"A\", \"7\", 2],\n",
    "    [\"A\", \"*\", 2],\n",
    "    [\"B\", \"C\", 2],\n",
    "    [\"B\", \"7\", 2],\n",
    "    [\"B\", \"*\", 2],\n",
    "    [\"C\", \"7\", 1],\n",
    "    [\"C\", \"*\", 2],\n",
    "    [\"7\", \"*\", 2]\n",
    "]\n",
    "expMech = dp.ExponentialMechanism().setEpsilon(1).setUtility(utilityList)\n",
    "\n",
    "eResults = {}\n",
    "for i in range(int(1e5)):\n",
    "    output = expMech.randomise(\"C\")\n",
    "\n",
    "    if output not in eResults:\n",
    "        eResults[output] = 0\n",
    "    eResults[output] += 1\n",
    "\n",
    "print(eResults)"
   ]
  },
  {
   "cell_type": "markdown",
   "metadata": {},
   "source": [
    "## Hierarchical mechanism\n",
    "Should give the same output as the classic exponential mechanism above, but with the added benefit of a simpler set-up."
   ]
  },
  {
   "cell_type": "code",
   "execution_count": 3,
   "metadata": {},
   "outputs": [
    {
     "name": "stdout",
     "output_type": "stream",
     "text": [
      "{'C': 36937, 'A': 13542, '7': 22442, '*': 13669, 'B': 13410}\n"
     ]
    }
   ],
   "source": [
    "hierMech = dp.HierarchicalMechanism().setEpsilon(1).setHierarchy([[\"A\", \"B\"], [\"C\", \"7\"], [\"*\"]])\n",
    "\n",
    "hResults = {}\n",
    "for i in range(int(1e5)):\n",
    "    output = hierMech.randomise(\"C\")\n",
    "\n",
    "    if output not in hResults:\n",
    "        hResults[output] = 0\n",
    "    hResults[output] += 1\n",
    "\n",
    "print(hResults)"
   ]
  },
  {
   "cell_type": "code",
   "execution_count": 4,
   "metadata": {},
   "outputs": [
    {
     "data": {
      "text/plain": [
       "[['A', 'B', 1],\n",
       " ['A', 'C', 2],\n",
       " ['B', 'C', 2],\n",
       " ['7', 'A', 2],\n",
       " ['7', 'B', 2],\n",
       " ['7', 'C', 1],\n",
       " ['*', 'A', 2],\n",
       " ['*', 'B', 2],\n",
       " ['*', 'C', 2],\n",
       " ['*', '7', 2]]"
      ]
     },
     "execution_count": 4,
     "metadata": {},
     "output_type": "execute_result"
    }
   ],
   "source": [
    "hierMech.getUtilityList()"
   ]
  },
  {
   "cell_type": "markdown",
   "metadata": {},
   "source": [
    "# Laplace mechanism"
   ]
  },
  {
   "cell_type": "code",
   "execution_count": 5,
   "metadata": {},
   "outputs": [],
   "source": [
    "lMech = dp.LaplaceMechanism().setEpsilon(6).setSensitivity(1)"
   ]
  },
  {
   "cell_type": "code",
   "execution_count": 6,
   "metadata": {},
   "outputs": [],
   "source": [
    "lVals = np.zeros(10000)\n",
    "\n",
    "for i in range(lVals.size):\n",
    "    lVals[i] = lMech.randomise(0.5)"
   ]
  },
  {
   "cell_type": "code",
   "execution_count": 7,
   "metadata": {},
   "outputs": [
    {
     "data": {
      "image/png": "[encoded data removed]",
      "text/plain": [
       "<Figure size 432x288 with 1 Axes>"
      ]
     },
     "metadata": {},
     "output_type": "display_data"
    }
   ],
   "source": [
    "binWidth = 1/100\n",
    "plt.hist(lVals, bins=np.arange(min(lVals), max(lVals) + binWidth, binWidth))\n",
    "plt.show()"
   ]
  },
  {
   "cell_type": "markdown",
   "metadata": {},
   "source": [
    "# Truncated Laplace mechanism"
   ]
  },
  {
   "cell_type": "code",
   "execution_count": 8,
   "metadata": {},
   "outputs": [],
   "source": [
    "tMech = dp.TruncatedLaplaceMechanism().setEpsilon(6).setSensitivity(1).setBounds(0, 1)"
   ]
  },
  {
   "cell_type": "code",
   "execution_count": 9,
   "metadata": {},
   "outputs": [],
   "source": [
    "tVals = np.zeros(100000)\n",
    "\n",
    "for i in range(tVals.size):\n",
    "    tVals[i] = tMech.randomise(0.5)"
   ]
  },
  {
   "cell_type": "code",
   "execution_count": 10,
   "metadata": {},
   "outputs": [
    {
     "data": {
      "image/png": "[encoded data removed]",
      "text/plain": [
       "<Figure size 432x288 with 1 Axes>"
      ]
     },
     "metadata": {},
     "output_type": "display_data"
    }
   ],
   "source": [
    "import matplotlib.pyplot as plt\n",
    "\n",
    "plt.hist(tVals, bins=101)\n",
    "plt.show()"
   ]
  },
  {
   "cell_type": "markdown",
   "metadata": {},
   "source": [
    "# Folded Laplace mechanism"
   ]
  },
  {
   "cell_type": "code",
   "execution_count": 11,
   "metadata": {},
   "outputs": [],
   "source": [
    "fMech = dp.FoldedLaplaceMechanism().setEpsilon(6).setSensitivity(1).setBounds(0, 1)"
   ]
  },
  {
   "cell_type": "code",
   "execution_count": 12,
   "metadata": {},
   "outputs": [],
   "source": [
    "fVals = np.zeros(100000)\n",
    "\n",
    "for i in range(fVals.size):\n",
    "    fVals[i] = fMech.randomise(0.5)"
   ]
  },
  {
   "cell_type": "code",
   "execution_count": 13,
   "metadata": {},
   "outputs": [
    {
     "data": {
      "image/png": "[encoded data removed]",
      "text/plain": [
       "<Figure size 432x288 with 1 Axes>"
      ]
     },
     "metadata": {},
     "output_type": "display_data"
    }
   ],
   "source": [
    "import matplotlib.pyplot as plt\n",
    "\n",
    "plt.hist(fVals, bins=101)\n",
    "plt.show()"
   ]
  },
  {
   "cell_type": "markdown",
   "metadata": {},
   "source": [
    "# Bounded Laplace mechanism"
   ]
  },
  {
   "cell_type": "code",
   "execution_count": 14,
   "metadata": {},
   "outputs": [],
   "source": [
    "bMech = dp.BoundedLaplaceMechanism().setEpsilon(6).setBounds(0,1).setSensitivity(1)"
   ]
  },
  {
   "cell_type": "code",
   "execution_count": 15,
   "metadata": {},
   "outputs": [],
   "source": [
    "bVals = np.zeros(100000)\n",
    "\n",
    "for i in range(bVals.size):\n",
    "    bVals[i] = bMech.randomise(0.5)"
   ]
  },
  {
   "cell_type": "code",
   "execution_count": 16,
   "metadata": {
    "scrolled": true
   },
   "outputs": [
    {
     "data": {
      "image/png": "[encoded data removed]",
      "text/plain": [
       "<Figure size 432x288 with 1 Axes>"
      ]
     },
     "metadata": {},
     "output_type": "display_data"
    }
   ],
   "source": [
    "import matplotlib.pyplot as plt\n",
    "\n",
    "plt.hist(bVals, bins=101)\n",
    "plt.show()"
   ]
  },
  {
   "cell_type": "markdown",
   "metadata": {},
   "source": [
    "# Comparison of pure, truncated, folded and bounded mechanisms"
   ]
  },
  {
   "cell_type": "code",
   "execution_count": 17,
   "metadata": {},
   "outputs": [
    {
     "name": "stdout",
     "output_type": "stream",
     "text": [
      "Execution times\n",
      "Pure: 7.651s\n",
      "Truncated: 7.600s\n",
      "Folded: 8.236s\n",
      "Bounded: 14.741s\n"
     ]
    },
    {
     "data": {
      "image/png": "[encoded data removed]",
      "text/plain": [
       "<Figure size 432x288 with 1 Axes>"
      ]
     },
     "metadata": {},
     "output_type": "display_data"
    }
   ],
   "source": [
    "binWidth = 1/101\n",
    "epsilon = 1\n",
    "sensitivity = 0.1\n",
    "upperBound = 1\n",
    "\n",
    "mechs = [\n",
    "    (dp.LaplaceMechanism().setEpsilon(epsilon).setSensitivity(sensitivity), \"Pure\"),\n",
    "    (dp.TruncatedLaplaceMechanism().setEpsilon(epsilon).setSensitivity(sensitivity).setBounds(0, upperBound), \"Truncated\"),\n",
    "    (dp.FoldedLaplaceMechanism().setEpsilon(epsilon).setSensitivity(sensitivity).setBounds(0, upperBound), \"Folded\"),\n",
    "    (dp.BoundedLaplaceMechanism().setEpsilon(epsilon).setSensitivity(sensitivity).setBounds(0, upperBound), \"Bounded\")\n",
    "]\n",
    "\n",
    "print(\"Execution times\")\n",
    "for (mech, label) in mechs:\n",
    "    vals = np.zeros(1000000)\n",
    "    t = time()\n",
    "    \n",
    "    for i in range(vals.size):\n",
    "        vals[i] = mech.randomise(0.0)\n",
    "    \n",
    "    valsHist, valsBins = np.histogram(vals, bins=np.arange(min(vals), max(vals) + binWidth, binWidth))\n",
    "    valsBins = valsBins[:-1]\n",
    "    plt.plot(valsBins, valsHist, label=label)\n",
    "    print(label + \": %.3fs\" % (time() - t))\n",
    "\n",
    "    plt.legend()\n",
    "plt.show()"
   ]
  },
  {
   "cell_type": "markdown",
   "metadata": {},
   "source": [
    "# Testing the Data Transformer"
   ]
  },
  {
   "cell_type": "code",
   "execution_count": 18,
   "metadata": {},
   "outputs": [
    {
     "data": {
      "text/plain": [
       "1.6862461636664958"
      ]
     },
     "execution_count": 18,
     "metadata": {},
     "output_type": "execute_result"
    }
   ],
   "source": [
    "testMech = dp.BoundedLaplaceMechanism().setEpsilon(1).setBounds(-0.5, 10.5).setSensitivity(10)\n",
    "testMech.randomise(2)"
   ]
  },
  {
   "cell_type": "code",
   "execution_count": 19,
   "metadata": {},
   "outputs": [
    {
     "data": {
      "text/plain": [
       "2"
      ]
     },
     "execution_count": 19,
     "metadata": {},
     "output_type": "execute_result"
    }
   ],
   "source": [
    "testTrans = dp.RoundedInteger(testMech)\n",
    "testTrans.randomise(2)"
   ]
  },
  {
   "cell_type": "code",
   "execution_count": 20,
   "metadata": {},
   "outputs": [],
   "source": [
    "testVals = np.zeros(100000)\n",
    "\n",
    "for i in range(testVals.size):\n",
    "    testVals[i] = testTrans.randomise(2)"
   ]
  },
  {
   "cell_type": "code",
   "execution_count": 21,
   "metadata": {
    "scrolled": false
   },
   "outputs": [
    {
     "data": {
      "image/png": "[encoded data removed]",
      "text/plain": [
       "<Figure size 432x288 with 1 Axes>"
      ]
     },
     "metadata": {},
     "output_type": "display_data"
    }
   ],
   "source": [
    "plt.hist(testVals, bins=31)\n",
    "plt.show()"
   ]
  },
  {
   "cell_type": "code",
   "execution_count": 22,
   "metadata": {},
   "outputs": [
    {
     "data": {
      "image/png": "[encoded data removed]",
      "text/plain": [
       "<Figure size 432x288 with 1 Axes>"
      ]
     },
     "metadata": {},
     "output_type": "display_data"
    }
   ],
   "source": [
    "testTrans1b = dp.RoundedInteger(dp.LaplaceMechanism().setEpsilon(1).setSensitivity(1))\n",
    "testVals1b = np.zeros(100000)\n",
    "\n",
    "for i in range(testVals1b.size):\n",
    "    testVals1b[i] = testTrans1b.randomise(2)\n",
    "plt.hist(testVals1b, bins=int(testVals1b.max() - testVals1b.min())*2+1)\n",
    "plt.show()"
   ]
  },
  {
   "cell_type": "markdown",
   "metadata": {},
   "source": [
    "## Swap Order\n",
    "In the census data, `cars_or_vans` has the following numeric values:\n",
    "\n",
    "| Value | Label |\n",
    "| :---: | --- |\n",
    "| 1 | One |\n",
    "| 2 | Two |\n",
    "| 3 | Three |\n",
    "| 4 | Four or more |\n",
    "| 5 | None |\n",
    "\n",
    "For consistency, we need to swap `None` to value `0` as a preTransform step, and swap it back to `5` in postTransform. This will ensure the Laplace mechanism prioritises values close to zero for an input value `5`. The Laplace mechanism must be initiated while taking the preTransform into account."
   ]
  },
  {
   "cell_type": "code",
   "execution_count": 23,
   "metadata": {},
   "outputs": [],
   "source": [
    "class SwapOrder(dp.DPTransformer):\n",
    "    def preTransform(self, value):\n",
    "        if value == 5:\n",
    "            return 0\n",
    "        return value\n",
    "\n",
    "    def postTransform(self, value):\n",
    "        if value == 0:\n",
    "            return 5\n",
    "        return value"
   ]
  },
  {
   "cell_type": "code",
   "execution_count": 24,
   "metadata": {},
   "outputs": [],
   "source": [
    "testTrans2 = SwapOrder(\n",
    "    dp.RoundedInteger(\n",
    "        dp.BoundedLaplaceMechanism().setEpsilon(1).setBounds(-0.5, 4.5).setSensitivity(4)))"
   ]
  },
  {
   "cell_type": "markdown",
   "metadata": {},
   "source": [
    "**Note:** Can also be done on a single line,\n",
    "```Python\n",
    "testTrans2 = SwapOrder(dp.RoundedInteger(dp.BoundedLaplaceMechanism().setEpsilon(1).setBounds(-0.5, 10.5).setSensitivity(10)))\n",
    "```"
   ]
  },
  {
   "cell_type": "code",
   "execution_count": 25,
   "metadata": {},
   "outputs": [],
   "source": [
    "testVals2 = np.zeros(100000)\n",
    "\n",
    "for i in range(testVals2.size):\n",
    "    testVals2[i] = testTrans2.randomise(4)"
   ]
  },
  {
   "cell_type": "code",
   "execution_count": 26,
   "metadata": {
    "scrolled": true
   },
   "outputs": [
    {
     "data": {
      "image/png": "[encoded data removed]",
      "text/plain": [
       "<Figure size 432x288 with 1 Axes>"
      ]
     },
     "metadata": {},
     "output_type": "display_data"
    }
   ],
   "source": [
    "plt.hist(testVals2, bins=5)\n",
    "plt.show()"
   ]
  },
  {
   "cell_type": "markdown",
   "metadata": {},
   "source": [
    "# Geometric mechanism\n",
    "The geometric mechanism is provably optimal when considering discrete inputs/outputs. The graph below shows that the geometric mechanism gives greater probability to the correct value compared to the rounded integer-valued Laplace mechanism."
   ]
  },
  {
   "cell_type": "code",
   "execution_count": 28,
   "metadata": {
    "scrolled": true
   },
   "outputs": [
    {
     "data": {
      "text/plain": [
       "2"
      ]
     },
     "execution_count": 28,
     "metadata": {},
     "output_type": "execute_result"
    }
   ],
   "source": [
    "geomMech = dp.GeometricMechanism().setEpsilon(1).setSensitivity(1)\n",
    "geomMech.randomise(2)"
   ]
  },
  {
   "cell_type": "code",
   "execution_count": 29,
   "metadata": {},
   "outputs": [],
   "source": [
    "geomVals = np.zeros(100000)\n",
    "\n",
    "for i in range(geomVals.size):\n",
    "    geomVals[i] = geomMech.randomise(2)"
   ]
  },
  {
   "cell_type": "code",
   "execution_count": 30,
   "metadata": {},
   "outputs": [],
   "source": [
    "geomValsHist = np.histogram(geomVals, bins=np.arange(geomVals.min(), geomVals.max()+1))\n",
    "laplValsHist = np.histogram(testVals1b, bins = np.arange(testVals1b.min(), testVals1b.max()+1))"
   ]
  },
  {
   "cell_type": "code",
   "execution_count": 31,
   "metadata": {
    "scrolled": true
   },
   "outputs": [
    {
     "data": {
      "image/png": "[encoded data removed]",
      "text/plain": [
       "<Figure size 432x288 with 1 Axes>"
      ]
     },
     "metadata": {},
     "output_type": "display_data"
    }
   ],
   "source": [
    "width = 0.4\n",
    "plt.bar(geomValsHist[1][:-1] - width/2, geomValsHist[0], width, label=\"Geometric Mechanism\")\n",
    "plt.bar(laplValsHist[1][:-1] + width/2, laplValsHist[0], width, label=\"Laplace Mechanism\")\n",
    "plt.legend()\n",
    "plt.show()"
   ]
  },
  {
   "cell_type": "code",
   "execution_count": 32,
   "metadata": {},
   "outputs": [],
   "source": [
    "def plotDiscreteMech(mechanisms, value, samples=100000):\n",
    "    width = 0.9/len(mechanisms)\n",
    "    print(\"Execution times\")\n",
    "    \n",
    "    for j, (mech, label) in enumerate(mechanisms):\n",
    "        vals = np.zeros(samples)\n",
    "        t = time()\n",
    "\n",
    "        for i in range(samples):\n",
    "            vals[i] = mech.randomise(value)\n",
    "\n",
    "        valsHist, valsBins = np.histogram(vals, bins=np.arange(min(vals), max(vals) + 2))\n",
    "        valsBins = valsBins[:-1]\n",
    "        plt.bar(valsBins + width*(0.5 + j - len(mechanisms)/2), valsHist, width, label=label)\n",
    "        print(label + \": %.3fs\" % (time() - t))\n",
    "\n",
    "        plt.legend()\n",
    "\n",
    "    plt.savefig(\"examplfig.pdf\")\n",
    "    # plt.show()"
   ]
  },
  {
   "cell_type": "code",
   "execution_count": 33,
   "metadata": {},
   "outputs": [
    {
     "name": "stdout",
     "output_type": "stream",
     "text": [
      "Execution times\n",
      "Bounded Laplace: 1.951s\n",
      "Folded Laplace: 1.592s\n",
      "Folded Geometric: 1.439s\n"
     ]
    },
    {
     "data": {
      "image/png": "[encoded data removed]",
      "text/plain": [
       "<Figure size 432x288 with 1 Axes>"
      ]
     },
     "metadata": {},
     "output_type": "display_data"
    }
   ],
   "source": [
    "epsilon = 10\n",
    "upperBound = 10\n",
    "sensitivity = 10\n",
    "\n",
    "mechs = [\n",
    "#     (dp.GeometricMechanism().setEpsilon(epsilon).setSensitivity(sensitivity), \"Pure\"),\n",
    "    (dp.TruncatedGeometricMechanism().setEpsilon(epsilon).setBounds(0, upperBound).setSensitivity(sensitivity), \"Truncated Geometric\"),\n",
    "    (dp.FoldedGeometricMechanism().setEpsilon(epsilon).setBounds(-0.5, upperBound + 0.5).setSensitivity(sensitivity), \"Folded Geometric\"),\n",
    "    (dp.RoundedInteger(dp.BoundedLaplaceMechanism().setEpsilon(epsilon).setSensitivity(sensitivity).setBounds(-0.5, upperBound + 0.5)), \"Bounded Laplace\")\n",
    "]\n",
    "\n",
    "fmechs = [\n",
    "    (dp.RoundedInteger(\n",
    "        dp.BoundedLaplaceMechanism()\\\n",
    "        .setEpsilon(epsilon)\\\n",
    "        .setBounds(-0.5, upperBound + 0.5)\\\n",
    "        .setSensitivity(sensitivity)), \"Bounded Laplace\"),\n",
    "    (dp.RoundedInteger(\n",
    "        dp.FoldedLaplaceMechanism()\\\n",
    "        .setEpsilon(epsilon)\\\n",
    "        .setBounds(-0.5, upperBound + 0.5)\\\n",
    "        .setSensitivity(sensitivity)), \"Folded Laplace\"),\n",
    "    (dp.FoldedGeometricMechanism()\\\n",
    "     .setEpsilon(epsilon)\\\n",
    "     .setBounds(-0.5, upperBound + 0.5)\\\n",
    "     .setSensitivity(sensitivity), \"Folded Geometric\"),\n",
    "]\n",
    "\n",
    "plotDiscreteMech(fmechs, 0, 100000)"
   ]
  },
  {
   "cell_type": "markdown",
   "metadata": {},
   "source": [
    "# Binary mechanism"
   ]
  },
  {
   "cell_type": "code",
   "execution_count": 34,
   "metadata": {},
   "outputs": [],
   "source": [
    "binLabel1 = \"Naoise\"\n",
    "binLabel2 = \"Rahul\"\n",
    "binMech = dp.BinaryMechanism().setEpsilon(np.log(9)).setLabels(binLabel1, binLabel2)"
   ]
  },
  {
   "cell_type": "code",
   "execution_count": 35,
   "metadata": {},
   "outputs": [
    {
     "data": {
      "text/plain": [
       "{'Naoise': 9959, 'Rahul': 90041}"
      ]
     },
     "execution_count": 35,
     "metadata": {},
     "output_type": "execute_result"
    }
   ],
   "source": [
    "bResults = dict.fromkeys([binLabel1, binLabel2], 0)\n",
    "\n",
    "for i in range(100000):\n",
    "    output = binMech.randomise(binLabel2)\n",
    "    bResults[output] += 1\n",
    "    \n",
    "bResults"
   ]
  },
  {
   "cell_type": "markdown",
   "metadata": {},
   "source": [
    "# Refactored Geometric mechanism"
   ]
  },
  {
   "cell_type": "code",
   "execution_count": 161,
   "metadata": {},
   "outputs": [],
   "source": [
    "from random import random, uniform\n",
    "\n",
    "class newGeometricMechanism(dp.GeometricMechanism):\n",
    "    def __init__(self):\n",
    "        super().__init__()\n",
    "        self.shape = None\n",
    "        \n",
    "    def randomise(self, value):\n",
    "        self.checkInputs(value)\n",
    "        \n",
    "        if self.shape is None:\n",
    "            self.shape = - self.epsilon / self.sensitivity\n",
    "\n",
    "        u = random() - 0.5 \n",
    "        u *= 1 + np.exp(self.shape)\n",
    "        sgn = -1 if u < 0 else 1\n",
    "        \n",
    "        return int(value + sgn * np.floor(np.log(sgn * u) / self.shape))"
   ]
  },
  {
   "cell_type": "code",
   "execution_count": 150,
   "metadata": {},
   "outputs": [],
   "source": [
    "newGeomMech = newGeometricMechanism().setEpsilon(1).setSensitivity(1)\n",
    "oldGeomMech = dp.GeometricMechanism().setEpsilon(1).setSensitivity(1)"
   ]
  },
  {
   "cell_type": "code",
   "execution_count": 162,
   "metadata": {},
   "outputs": [
    {
     "name": "stdout",
     "output_type": "stream",
     "text": [
      "Time (new): 8.957387\n",
      "Time (old): 9.677751\n"
     ]
    }
   ],
   "source": [
    "newGeomVals = np.zeros(1000000)\n",
    "oldGeomVals = np.zeros(newGeomVals.size)\n",
    "\n",
    "tic = time()\n",
    "newGeomVals = [newGeomMech.randomise(2) for x in newGeomVals]\n",
    "print(\"Time (new): %f\" % (time() - tic))\n",
    "\n",
    "tic = time()\n",
    "oldGeomVals = [oldGeomMech.randomise(2) for x in oldGeomVals]\n",
    "print(\"Time (old): %f\" % (time() - tic))\n",
    "    \n",
    "newGeomHist = np.histogram(newGeomVals, bins=np.arange(min(newGeomVals), max(newGeomVals)+1))\n",
    "oldGeomHist = np.histogram(oldGeomVals, bins=np.arange(min(oldGeomVals), max(oldGeomVals)+1))"
   ]
  },
  {
   "cell_type": "code",
   "execution_count": 159,
   "metadata": {},
   "outputs": [
    {
     "data": {
      "image/png": "[encoded data removed]",
      "text/plain": [
       "<Figure size 432x288 with 1 Axes>"
      ]
     },
     "metadata": {},
     "output_type": "display_data"
    }
   ],
   "source": [
    "width = 0.45\n",
    "plt.bar(newGeomHist[1][:-1] - width/2, newGeomHist[0], width, label=\"New code\")\n",
    "plt.bar(oldGeomHist[1][:-1] + width/2, oldGeomHist[0], width, label=\"Old code\")\n",
    "plt.legend()\n",
    "plt.show()"
   ]
  },
  {
   "cell_type": "code",
   "execution_count": 145,
   "metadata": {},
   "outputs": [
    {
     "name": "stdout",
     "output_type": "stream",
     "text": [
      "time: 0.966595\n",
      "time: 1.839437\n"
     ]
    }
   ],
   "source": [
    "for mech in [newGeomMech, oldGeomMech]:\n",
    "    tic = time()\n",
    "    for i in range(100000):\n",
    "        newVal = mech.randomise(1)\n",
    "        \n",
    "    print(\"time: %f\" % (time() - tic))\n",
    "        "
   ]
  },
  {
   "cell_type": "code",
   "execution_count": 160,
   "metadata": {
    "scrolled": true
   },
   "outputs": [
    {
     "name": "stdout",
     "output_type": "stream",
     "text": [
      "Prediction: 1699853, Lower: 1699871 (-0.001027%), Upper: 1699991 (-0.008086%)\n",
      "Prediction: 1700041, Lower: 1700145 (-0.006086%), Upper: 1702034 (-0.117201%)\n"
     ]
    }
   ],
   "source": [
    "for _vals in [oldGeomHist, newGeomHist]:\n",
    "    i = np.where(_vals[1]==2)[0][0]\n",
    "    pred = _vals[0][i] * np.exp(-1)\n",
    "    print(\"Prediction: %d, Lower: %d (%f%%), Upper: %d (%f%%)\" %\\\n",
    "          (int(pred), _vals[0][i-1], (pred - _vals[0][i-1]) * 100 / pred, \n",
    "           _vals[0][i+1], (pred - _vals[0][i+1]) * 100 / pred))\n",
    "# oldGeomHist[0][i-1], oldGeomHist[0][i] * np.exp(-1), oldGeomHist[0][i+1]"
   ]
  },
  {
   "cell_type": "code",
   "execution_count": 78,
   "metadata": {},
   "outputs": [
    {
     "data": {
      "text/plain": [
       "(16775, 17028.403572943724, 17095)"
      ]
     },
     "execution_count": 78,
     "metadata": {},
     "output_type": "execute_result"
    }
   ],
   "source": [
    "i = np.where(newGeomHist[1]==2)[0][0]\n",
    "newGeomHist[0][i-1], newGeomHist[0][i] * np.exp(-1), newGeomHist[0][i+1]"
   ]
  },
  {
   "cell_type": "code",
   "execution_count": 25,
   "metadata": {},
   "outputs": [
    {
     "data": {
      "text/plain": [
       "(array([   1,    0,    3,    7,   11,   33,   88,  208,  618, 1776, 4602,\n",
       "        1663,  632,  224,   89,   28,   13,    3,    1]),\n",
       " array([3.67879441e-01, 0.00000000e+00, 1.10363832e+00, 2.57515609e+00,\n",
       "        4.04667385e+00, 1.21400216e+01, 3.23733908e+01, 7.65189238e+01,\n",
       "        2.27349495e+02, 6.53353888e+02, 1.69298119e+03, 6.11783511e+02,\n",
       "        2.32499807e+02, 8.24049948e+01, 3.27412703e+01, 1.03006244e+01,\n",
       "        4.78243274e+00, 1.10363832e+00, 3.67879441e-01]))"
      ]
     },
     "execution_count": 25,
     "metadata": {},
     "output_type": "execute_result"
    }
   ],
   "source": [
    "oldGeomHist[0], oldGeomHist[0] * np.exp(-1)"
   ]
  },
  {
   "cell_type": "code",
   "execution_count": 26,
   "metadata": {},
   "outputs": [
    {
     "data": {
      "text/plain": [
       "(array([   3,    5,   28,   60,  153,  447, 1150, 6352, 1136,  415,  164,\n",
       "          48,   20,   14,    4,    0,    1]),\n",
       " array([1.10363832e+00, 1.83939721e+00, 1.03006244e+01, 2.20727665e+01,\n",
       "        5.62855545e+01, 1.64442110e+02, 4.23061357e+02, 2.33677021e+03,\n",
       "        4.17911045e+02, 1.52669968e+02, 6.03322284e+01, 1.76582132e+01,\n",
       "        7.35758882e+00, 5.15031218e+00, 1.47151776e+00, 0.00000000e+00,\n",
       "        3.67879441e-01]))"
      ]
     },
     "execution_count": 26,
     "metadata": {},
     "output_type": "execute_result"
    }
   ],
   "source": [
    "newGeomHist[0], newGeomHist[0] * np.exp(-1)"
   ]
  },
  {
   "cell_type": "code",
   "execution_count": 49,
   "metadata": {},
   "outputs": [
    {
     "data": {
      "text/plain": [
       "4.0"
      ]
     },
     "execution_count": 49,
     "metadata": {},
     "output_type": "execute_result"
    }
   ],
   "source": [
    "u = np.exp(-4)\n",
    "np.floor(np.log(np.abs(u)) / np.log(np.exp(-1)))"
   ]
  },
  {
   "cell_type": "code",
   "execution_count": 50,
   "metadata": {},
   "outputs": [
    {
     "data": {
      "text/plain": [
       "0.01831563888873418"
      ]
     },
     "execution_count": 50,
     "metadata": {},
     "output_type": "execute_result"
    }
   ],
   "source": [
    "u"
   ]
  },
  {
   "cell_type": "code",
   "execution_count": 71,
   "metadata": {},
   "outputs": [
    {
     "data": {
      "text/plain": [
       "0.04758129098202024"
      ]
     },
     "execution_count": 71,
     "metadata": {},
     "output_type": "execute_result"
    }
   ],
   "source": [
    "1 - (1 - np.exp(-0.1))/2"
   ]
  },
  {
   "cell_type": "code",
   "execution_count": 68,
   "metadata": {},
   "outputs": [
    {
     "data": {
      "text/plain": [
       "0.36787944117144233"
      ]
     },
     "execution_count": 68,
     "metadata": {},
     "output_type": "execute_result"
    }
   ],
   "source": [
    "np.exp(-1)"
   ]
  },
  {
   "cell_type": "code",
   "execution_count": null,
   "metadata": {},
   "outputs": [],
   "source": []
  }
 ],
 "metadata": {
  "kernelspec": {
   "display_name": "Python 3",
   "language": "python",
   "name": "python3"
  },
  "language_info": {
   "codemirror_mode": {
    "name": "ipython",
    "version": 3
   },
   "file_extension": ".py",
   "mimetype": "text/x-python",
   "name": "python",
   "nbconvert_exporter": "python",
   "pygments_lexer": "ipython3",
   "version": "3.6.6"
  }
 },
 "nbformat": 4,
 "nbformat_minor": 2
}
