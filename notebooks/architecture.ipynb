{
 "cells": [
  {
   "cell_type": "markdown",
   "metadata": {},
   "source": [
    "# Architecture"
   ]
  },
  {
   "cell_type": "markdown",
   "metadata": {},
   "source": [
    "```\n",
    "h=  ║              │\n",
    "2   ║     ┌────────┼────────┐\n",
    "1   ║   ┌─┴─┐    ┌─┴─┐      │\n",
    "0   ║   A   B    C   7      *```"
   ]
  },
  {
   "cell_type": "markdown",
   "metadata": {},
   "source": [
    "```\n",
    "IBM Differential Privacy Library\n",
    "│\n",
    "├─ Mechanisms\n",
    "│  ├─ Laplace\n",
    "│  │  ├─ Standard\n",
    "│  │  ├─ Truncated\n",
    "│  │  ├─ Bounded\n",
    "│  │  └─ Folded\n",
    "│  ├─ Geometric\n",
    "│  │  ├─ Standard\n",
    "│  │  ├─ Truncated\n",
    "│  │  ├─ Bounded\n",
    "│  │  └─ Folded\n",
    "│  ├─ Exponential\n",
    "│  │  ├─ Standard\n",
    "│  │  └─ Hierarchical\n",
    "│  └─ Binary\n",
    "│\n",
    "├─ Transformers\n",
    "│  ├─ StringToInt\n",
    "│  ├─ IntToString\n",
    "│  └─ RoundedInt\n",
    "│\n",
    "├─ Utilities\n",
    "│  ├─ Grid DP\n",
    "│  └─ Empirical DP\n",
    "│\n",
    "└─ Models\n",
    "   ├─ Gaussian NB\n",
    "   └─ PCA\n",
    "\n",
    "```"
   ]
  },
  {
   "cell_type": "code",
   "execution_count": null,
   "metadata": {},
   "outputs": [],
   "source": []
  }
 ],
 "metadata": {
  "kernelspec": {
   "display_name": "Python 3",
   "language": "python",
   "name": "python3"
  },
  "language_info": {
   "codemirror_mode": {
    "name": "ipython",
    "version": 3
   },
   "file_extension": ".py",
   "mimetype": "text/x-python",
   "name": "python",
   "nbconvert_exporter": "python",
   "pygments_lexer": "ipython3",
   "version": "3.6.6"
  }
 },
 "nbformat": 4,
 "nbformat_minor": 2
}
