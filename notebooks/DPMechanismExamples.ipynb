{
 "cells": [
  {
   "cell_type": "code",
   "execution_count": 1,
   "metadata": {},
   "outputs": [],
   "source": [
    "import numpy as np\n",
    "import DPMechanism as dp\n",
    "import matplotlib.pyplot as plt\n",
    "from time import time"
   ]
  },
  {
   "cell_type": "markdown",
   "metadata": {},
   "source": [
    "# Exponential mechanism"
   ]
  },
  {
   "cell_type": "markdown",
   "metadata": {},
   "source": [
    "## Classic exponential mechanism"
   ]
  },
  {
   "cell_type": "code",
   "execution_count": 2,
   "metadata": {},
   "outputs": [
    {
     "name": "stdout",
     "output_type": "stream",
     "text": [
      "{'*': 13509, 'C': 36790, 'A': 13643, '7': 22472, 'B': 13586}\n"
     ]
    }
   ],
   "source": [
    "utility_list = [\n",
    "    [\"A\", \"B\", 1],\n",
    "    [\"A\", \"C\", 2],\n",
    "    [\"A\", \"7\", 2],\n",
    "    [\"A\", \"*\", 2],\n",
    "    [\"B\", \"C\", 2],\n",
    "    [\"B\", \"7\", 2],\n",
    "    [\"B\", \"*\", 2],\n",
    "    [\"C\", \"7\", 1],\n",
    "    [\"C\", \"*\", 2],\n",
    "    [\"7\", \"*\", 2]\n",
    "]\n",
    "expMech = dp.ExponentialMechanism().set_epsilon(1).set_utility(utility_list)\n",
    "\n",
    "eResults = {}\n",
    "for i in range(int(1e5)):\n",
    "    output = expMech.randomise(\"C\")\n",
    "\n",
    "    if output not in eResults:\n",
    "        eResults[output] = 0\n",
    "    eResults[output] += 1\n",
    "\n",
    "print(eResults)"
   ]
  },
  {
   "cell_type": "markdown",
   "metadata": {},
   "source": [
    "## Hierarchical mechanism\n",
    "Should give the same output as the classic exponential mechanism above, but with the added benefit of a simpler set-up."
   ]
  },
  {
   "cell_type": "code",
   "execution_count": 3,
   "metadata": {},
   "outputs": [
    {
     "name": "stdout",
     "output_type": "stream",
     "text": [
      "{'*': 13587, 'B': 13761, 'A': 13504, '7': 22259, 'C': 36889}\n"
     ]
    }
   ],
   "source": [
    "hierMech = dp.HierarchicalMechanism().set_epsilon(1).set_hierarchy([[\"A\", \"B\"], [\"C\", \"7\"], [\"*\"]])\n",
    "\n",
    "hResults = {}\n",
    "for i in range(int(1e5)):\n",
    "    output = hierMech.randomise(\"C\")\n",
    "\n",
    "    if output not in hResults:\n",
    "        hResults[output] = 0\n",
    "    hResults[output] += 1\n",
    "\n",
    "print(hResults)"
   ]
  },
  {
   "cell_type": "code",
   "execution_count": 4,
   "metadata": {},
   "outputs": [
    {
     "data": {
      "text/plain": [
       "[['A', 'B', 1.0],\n",
       " ['A', 'C', 2.0],\n",
       " ['B', 'C', 2.0],\n",
       " ['7', 'A', 2.0],\n",
       " ['7', 'B', 2.0],\n",
       " ['7', 'C', 1.0],\n",
       " ['*', 'A', 2.0],\n",
       " ['*', 'B', 2.0],\n",
       " ['*', 'C', 2.0],\n",
       " ['*', '7', 2.0]]"
      ]
     },
     "execution_count": 4,
     "metadata": {},
     "output_type": "execute_result"
    }
   ],
   "source": [
    "hierMech.get_utility_list()"
   ]
  },
  {
   "cell_type": "markdown",
   "metadata": {},
   "source": [
    "# Laplace mechanism"
   ]
  },
  {
   "cell_type": "code",
   "execution_count": 5,
   "metadata": {},
   "outputs": [],
   "source": [
    "lMech = dp.LaplaceMechanism().set_epsilon(6).set_sensitivity(1)"
   ]
  },
  {
   "cell_type": "code",
   "execution_count": 6,
   "metadata": {},
   "outputs": [],
   "source": [
    "lVals = np.zeros(10000)\n",
    "\n",
    "for i in range(lVals.size):\n",
    "    lVals[i] = lMech.randomise(0.5)"
   ]
  },
  {
   "cell_type": "code",
   "execution_count": 7,
   "metadata": {},
   "outputs": [
    {
     "data": {
      "image/png": "[encoded data removed]",
      "text/plain": [
       "<Figure size 432x288 with 1 Axes>"
      ]
     },
     "metadata": {},
     "output_type": "display_data"
    }
   ],
   "source": [
    "binWidth = 1/100\n",
    "plt.hist(lVals, bins=np.arange(min(lVals), max(lVals) + binWidth, binWidth))\n",
    "plt.show()"
   ]
  },
  {
   "cell_type": "markdown",
   "metadata": {},
   "source": [
    "# Truncated Laplace mechanism"
   ]
  },
  {
   "cell_type": "code",
   "execution_count": 8,
   "metadata": {},
   "outputs": [],
   "source": [
    "tMech = dp.TruncatedLaplaceMechanism().set_epsilon(6).set_sensitivity(1).set_bounds(0, 1)"
   ]
  },
  {
   "cell_type": "code",
   "execution_count": 9,
   "metadata": {},
   "outputs": [],
   "source": [
    "tVals = np.zeros(100000)\n",
    "\n",
    "for i in range(tVals.size):\n",
    "    tVals[i] = tMech.randomise(0.5)"
   ]
  },
  {
   "cell_type": "code",
   "execution_count": 10,
   "metadata": {},
   "outputs": [
    {
     "data": {
      "image/png": "[encoded data removed]",
      "text/plain": [
       "<Figure size 432x288 with 1 Axes>"
      ]
     },
     "metadata": {},
     "output_type": "display_data"
    }
   ],
   "source": [
    "import matplotlib.pyplot as plt\n",
    "\n",
    "plt.hist(tVals, bins=101)\n",
    "plt.show()"
   ]
  },
  {
   "cell_type": "markdown",
   "metadata": {},
   "source": [
    "# Folded Laplace mechanism"
   ]
  },
  {
   "cell_type": "code",
   "execution_count": 14,
   "metadata": {},
   "outputs": [],
   "source": [
    "fMech = dp.FoldedLaplaceMechanism().set_epsilon(6).set_sensitivity(1).set_bounds(0, 1)"
   ]
  },
  {
   "cell_type": "code",
   "execution_count": 15,
   "metadata": {},
   "outputs": [],
   "source": [
    "fVals = np.zeros(100000)\n",
    "\n",
    "for i in range(fVals.size):\n",
    "    fVals[i] = fMech.randomise(0.5)"
   ]
  },
  {
   "cell_type": "code",
   "execution_count": 16,
   "metadata": {},
   "outputs": [
    {
     "data": {
      "image/png": "[encoded data removed]",
      "text/plain": [
       "<Figure size 432x288 with 1 Axes>"
      ]
     },
     "metadata": {},
     "output_type": "display_data"
    }
   ],
   "source": [
    "import matplotlib.pyplot as plt\n",
    "\n",
    "plt.hist(fVals, bins=101)\n",
    "plt.show()"
   ]
  },
  {
   "cell_type": "markdown",
   "metadata": {},
   "source": [
    "# Bounded Laplace mechanism"
   ]
  },
  {
   "cell_type": "code",
   "execution_count": 17,
   "metadata": {},
   "outputs": [],
   "source": [
    "bMech = dp.BoundedLaplaceMechanism().set_epsilon(6).set_bounds(0,1).set_sensitivity(1)"
   ]
  },
  {
   "cell_type": "code",
   "execution_count": 18,
   "metadata": {},
   "outputs": [],
   "source": [
    "bVals = np.zeros(100000)\n",
    "\n",
    "for i in range(bVals.size):\n",
    "    bVals[i] = bMech.randomise(0.5)"
   ]
  },
  {
   "cell_type": "code",
   "execution_count": 19,
   "metadata": {
    "scrolled": true
   },
   "outputs": [
    {
     "data": {
      "image/png": "[encoded data removed]",
      "text/plain": [
       "<Figure size 432x288 with 1 Axes>"
      ]
     },
     "metadata": {},
     "output_type": "display_data"
    }
   ],
   "source": [
    "import matplotlib.pyplot as plt\n",
    "\n",
    "plt.hist(bVals, bins=101)\n",
    "plt.show()"
   ]
  },
  {
   "cell_type": "markdown",
   "metadata": {},
   "source": [
    "# Comparison of pure, truncated, folded and bounded mechanisms"
   ]
  },
  {
   "cell_type": "code",
   "execution_count": 20,
   "metadata": {},
   "outputs": [
    {
     "name": "stdout",
     "output_type": "stream",
     "text": [
      "Execution times\n",
      "Pure: 7.103s\n",
      "Truncated: 9.547s\n",
      "Folded: 9.244s\n",
      "Bounded: 17.347s\n"
     ]
    },
    {
     "data": {
      "image/png": "[encoded data removed]",
      "text/plain": [
       "<Figure size 432x288 with 1 Axes>"
      ]
     },
     "metadata": {},
     "output_type": "display_data"
    }
   ],
   "source": [
    "binWidth = 1/101\n",
    "epsilon = 1\n",
    "sensitivity = 0.1\n",
    "upperBound = 1\n",
    "\n",
    "mechs = [\n",
    "    (dp.LaplaceMechanism().set_epsilon(epsilon).set_sensitivity(sensitivity), \"Pure\"),\n",
    "    (dp.TruncatedLaplaceMechanism().set_epsilon(epsilon).set_sensitivity(sensitivity).set_bounds(0, upperBound), \"Truncated\"),\n",
    "    (dp.FoldedLaplaceMechanism().set_epsilon(epsilon).set_sensitivity(sensitivity).set_bounds(0, upperBound), \"Folded\"),\n",
    "    (dp.BoundedLaplaceMechanism().set_epsilon(epsilon).set_sensitivity(sensitivity).set_bounds(0, upperBound), \"Bounded\")\n",
    "]\n",
    "\n",
    "print(\"Execution times\")\n",
    "for (mech, label) in mechs:\n",
    "    vals = np.zeros(1000000)\n",
    "    t = time()\n",
    "    \n",
    "    for i in range(vals.size):\n",
    "        vals[i] = mech.randomise(0.0)\n",
    "    \n",
    "    valsHist, valsBins = np.histogram(vals, bins=np.arange(min(vals), max(vals) + binWidth, binWidth))\n",
    "    valsBins = valsBins[:-1]\n",
    "    plt.plot(valsBins, valsHist, label=label)\n",
    "    print(label + \": %.3fs\" % (time() - t))\n",
    "\n",
    "    plt.legend()\n",
    "plt.show()"
   ]
  },
  {
   "cell_type": "markdown",
   "metadata": {},
   "source": [
    "# Testing the Data Transformer"
   ]
  },
  {
   "cell_type": "code",
   "execution_count": 21,
   "metadata": {},
   "outputs": [
    {
     "data": {
      "text/plain": [
       "8.332440533171667"
      ]
     },
     "execution_count": 21,
     "metadata": {},
     "output_type": "execute_result"
    }
   ],
   "source": [
    "testMech = dp.BoundedLaplaceMechanism().set_epsilon(1).set_bounds(-0.5, 10.5).set_sensitivity(10)\n",
    "testMech.randomise(2)"
   ]
  },
  {
   "cell_type": "code",
   "execution_count": 22,
   "metadata": {},
   "outputs": [
    {
     "data": {
      "text/plain": [
       "3"
      ]
     },
     "execution_count": 22,
     "metadata": {},
     "output_type": "execute_result"
    }
   ],
   "source": [
    "testTrans = dp.RoundedInteger(testMech)\n",
    "testTrans.randomise(2)"
   ]
  },
  {
   "cell_type": "code",
   "execution_count": 23,
   "metadata": {},
   "outputs": [],
   "source": [
    "testVals = np.zeros(100000)\n",
    "\n",
    "for i in range(testVals.size):\n",
    "    testVals[i] = testTrans.randomise(2)"
   ]
  },
  {
   "cell_type": "code",
   "execution_count": 24,
   "metadata": {
    "scrolled": false
   },
   "outputs": [
    {
     "data": {
      "image/png": "[encoded data removed]",
      "text/plain": [
       "<Figure size 432x288 with 1 Axes>"
      ]
     },
     "metadata": {},
     "output_type": "display_data"
    }
   ],
   "source": [
    "plt.hist(testVals, bins=31)\n",
    "plt.show()"
   ]
  },
  {
   "cell_type": "code",
   "execution_count": 25,
   "metadata": {},
   "outputs": [
    {
     "data": {
      "image/png": "[encoded data removed]",
      "text/plain": [
       "<Figure size 432x288 with 1 Axes>"
      ]
     },
     "metadata": {},
     "output_type": "display_data"
    }
   ],
   "source": [
    "testTrans1b = dp.RoundedInteger(dp.LaplaceMechanism().set_epsilon(1).set_sensitivity(1))\n",
    "testVals1b = np.zeros(100000)\n",
    "\n",
    "for i in range(testVals1b.size):\n",
    "    testVals1b[i] = testTrans1b.randomise(2)\n",
    "plt.hist(testVals1b, bins=int(testVals1b.max() - testVals1b.min())*2+1)\n",
    "plt.show()"
   ]
  },
  {
   "cell_type": "markdown",
   "metadata": {},
   "source": [
    "## Swap Order\n",
    "In the census data, `cars_or_vans` has the following numeric values:\n",
    "\n",
    "| Value | Label |\n",
    "| :---: | --- |\n",
    "| 1 | One |\n",
    "| 2 | Two |\n",
    "| 3 | Three |\n",
    "| 4 | Four or more |\n",
    "| 5 | None |\n",
    "\n",
    "For consistency, we need to swap `None` to value `0` as a preTransform step, and swap it back to `5` in postTransform. This will ensure the Laplace mechanism prioritises values close to zero for an input value `5`. The Laplace mechanism must be initiated while taking the preTransform into account."
   ]
  },
  {
   "cell_type": "code",
   "execution_count": 26,
   "metadata": {},
   "outputs": [],
   "source": [
    "class SwapOrder(dp.DPTransformer):\n",
    "    def preTransform(self, value):\n",
    "        if value == 5:\n",
    "            return 0\n",
    "        return value\n",
    "\n",
    "    def postTransform(self, value):\n",
    "        if value == 0:\n",
    "            return 5\n",
    "        return value"
   ]
  },
  {
   "cell_type": "code",
   "execution_count": 27,
   "metadata": {},
   "outputs": [],
   "source": [
    "testTrans2 = SwapOrder(\n",
    "    dp.RoundedInteger(\n",
    "        dp.BoundedLaplaceMechanism().set_epsilon(1).set_bounds(-0.5, 4.5).set_sensitivity(4)))"
   ]
  },
  {
   "cell_type": "markdown",
   "metadata": {},
   "source": [
    "**Note:** Can also be done on a single line,\n",
    "```Python\n",
    "testTrans2 = SwapOrder(dp.RoundedInteger(dp.BoundedLaplaceMechanism().set_epsilon(1).set_bounds(-0.5, 10.5).set_sensitivity(10)))\n",
    "```"
   ]
  },
  {
   "cell_type": "code",
   "execution_count": 28,
   "metadata": {},
   "outputs": [],
   "source": [
    "testVals2 = np.zeros(100000)\n",
    "\n",
    "for i in range(testVals2.size):\n",
    "    testVals2[i] = testTrans2.randomise(4)"
   ]
  },
  {
   "cell_type": "code",
   "execution_count": 29,
   "metadata": {
    "scrolled": true
   },
   "outputs": [
    {
     "data": {
      "image/png": "[encoded data removed]",
      "text/plain": [
       "<Figure size 432x288 with 1 Axes>"
      ]
     },
     "metadata": {},
     "output_type": "display_data"
    }
   ],
   "source": [
    "plt.hist(testVals2, bins=5)\n",
    "plt.show()"
   ]
  },
  {
   "cell_type": "markdown",
   "metadata": {},
   "source": [
    "# Geometric mechanism\n",
    "The geometric mechanism is provably optimal when considering discrete inputs/outputs. The graph below shows that the geometric mechanism gives greater probability to the correct value compared to the rounded integer-valued Laplace mechanism."
   ]
  },
  {
   "cell_type": "code",
   "execution_count": 30,
   "metadata": {
    "scrolled": true
   },
   "outputs": [
    {
     "data": {
      "text/plain": [
       "2"
      ]
     },
     "execution_count": 30,
     "metadata": {},
     "output_type": "execute_result"
    }
   ],
   "source": [
    "geomMech = dp.GeometricMechanism().set_epsilon(1).set_sensitivity(1)\n",
    "geomMech.randomise(2)"
   ]
  },
  {
   "cell_type": "code",
   "execution_count": 31,
   "metadata": {},
   "outputs": [],
   "source": [
    "geomVals = np.zeros(100000)\n",
    "\n",
    "for i in range(geomVals.size):\n",
    "    geomVals[i] = geomMech.randomise(2)"
   ]
  },
  {
   "cell_type": "code",
   "execution_count": 32,
   "metadata": {},
   "outputs": [],
   "source": [
    "geomValsHist = np.histogram(geomVals, bins=np.arange(geomVals.min(), geomVals.max()+1))\n",
    "laplValsHist = np.histogram(testVals1b, bins = np.arange(testVals1b.min(), testVals1b.max()+1))"
   ]
  },
  {
   "cell_type": "code",
   "execution_count": 33,
   "metadata": {
    "scrolled": true
   },
   "outputs": [
    {
     "data": {
      "image/png": "[encoded data removed]",
      "text/plain": [
       "<Figure size 432x288 with 1 Axes>"
      ]
     },
     "metadata": {},
     "output_type": "display_data"
    }
   ],
   "source": [
    "width = 0.4\n",
    "plt.bar(geomValsHist[1][:-1] - width/2, geomValsHist[0], width, label=\"Geometric Mechanism\")\n",
    "plt.bar(laplValsHist[1][:-1] + width/2, laplValsHist[0], width, label=\"Laplace Mechanism\")\n",
    "plt.legend()\n",
    "plt.show()"
   ]
  },
  {
   "cell_type": "code",
   "execution_count": 34,
   "metadata": {},
   "outputs": [],
   "source": [
    "def plotDiscreteMech(mechanisms, value, samples=100000):\n",
    "    width = 0.9/len(mechanisms)\n",
    "    print(\"Execution times\")\n",
    "    \n",
    "    for j, (mech, label) in enumerate(mechanisms):\n",
    "        vals = np.zeros(samples)\n",
    "        t = time()\n",
    "\n",
    "        for i in range(samples):\n",
    "            vals[i] = mech.randomise(value)\n",
    "\n",
    "        valsHist, valsBins = np.histogram(vals, bins=np.arange(min(vals), max(vals) + 2))\n",
    "        valsBins = valsBins[:-1]\n",
    "        plt.bar(valsBins + width*(0.5 + j - len(mechanisms)/2), valsHist, width, label=label)\n",
    "        print(label + \": %.3fs\" % (time() - t))\n",
    "\n",
    "        plt.legend()\n",
    "\n",
    "    plt.savefig(\"examplfig.pdf\")\n",
    "    # plt.show()"
   ]
  },
  {
   "cell_type": "code",
   "execution_count": 35,
   "metadata": {},
   "outputs": [
    {
     "name": "stdout",
     "output_type": "stream",
     "text": [
      "Execution times\n",
      "Bounded Laplace: 2.867s\n",
      "Folded Laplace: 1.632s\n",
      "Folded Geometric: 1.077s\n"
     ]
    },
    {
     "data": {
      "image/png": "[encoded data removed]",
      "text/plain": [
       "<Figure size 432x288 with 1 Axes>"
      ]
     },
     "metadata": {},
     "output_type": "display_data"
    }
   ],
   "source": [
    "epsilon = 10\n",
    "upperBound = 10\n",
    "sensitivity = 10\n",
    "\n",
    "mechs = [\n",
    "#     (dp.GeometricMechanism().set_epsilon(epsilon).set_sensitivity(sensitivity), \"Pure\"),\n",
    "    (dp.TruncatedGeometricMechanism().set_epsilon(epsilon).set_bounds(0, upperBound).set_sensitivity(sensitivity), \"Truncated Geometric\"),\n",
    "    (dp.FoldedGeometricMechanism().set_epsilon(epsilon).set_bounds(-0.5, upperBound + 0.5).set_sensitivity(sensitivity), \"Folded Geometric\"),\n",
    "    (dp.RoundedInteger(dp.BoundedLaplaceMechanism().set_epsilon(epsilon).set_sensitivity(sensitivity).set_bounds(-0.5, upperBound + 0.5)), \"Bounded Laplace\")\n",
    "]\n",
    "\n",
    "fmechs = [\n",
    "    (dp.RoundedInteger(\n",
    "        dp.BoundedLaplaceMechanism()\\\n",
    "        .set_epsilon(epsilon)\\\n",
    "        .set_bounds(-0.5, upperBound + 0.5)\\\n",
    "        .set_sensitivity(sensitivity)), \"Bounded Laplace\"),\n",
    "    (dp.RoundedInteger(\n",
    "        dp.FoldedLaplaceMechanism()\\\n",
    "        .set_epsilon(epsilon)\\\n",
    "        .set_bounds(-0.5, upperBound + 0.5)\\\n",
    "        .set_sensitivity(sensitivity)), \"Folded Laplace\"),\n",
    "    (dp.FoldedGeometricMechanism()\\\n",
    "     .set_epsilon(epsilon)\\\n",
    "     .set_bounds(-0.5, upperBound + 0.5)\\\n",
    "     .set_sensitivity(sensitivity), \"Folded Geometric\"),\n",
    "]\n",
    "\n",
    "plotDiscreteMech(fmechs, 0, 100000)"
   ]
  },
  {
   "cell_type": "markdown",
   "metadata": {},
   "source": [
    "# Binary mechanism"
   ]
  },
  {
   "cell_type": "code",
   "execution_count": 36,
   "metadata": {},
   "outputs": [],
   "source": [
    "binLabel1 = \"Naoise\"\n",
    "binLabel2 = \"Rahul\"\n",
    "binMech = dp.BinaryMechanism().set_epsilon(np.log(9)).set_labels(binLabel1, binLabel2)"
   ]
  },
  {
   "cell_type": "code",
   "execution_count": 37,
   "metadata": {},
   "outputs": [
    {
     "data": {
      "text/plain": [
       "{'Naoise': 10175, 'Rahul': 89825}"
      ]
     },
     "execution_count": 37,
     "metadata": {},
     "output_type": "execute_result"
    }
   ],
   "source": [
    "bResults = dict.fromkeys([binLabel1, binLabel2], 0)\n",
    "\n",
    "for i in range(100000):\n",
    "    output = binMech.randomise(binLabel2)\n",
    "    bResults[output] += 1\n",
    "    \n",
    "bResults"
   ]
  },
  {
   "cell_type": "markdown",
   "metadata": {},
   "source": [
    "# Refactored Geometric mechanism"
   ]
  },
  {
   "cell_type": "code",
   "execution_count": 41,
   "metadata": {},
   "outputs": [],
   "source": [
    "from random import random, uniform\n",
    "\n",
    "class newGeometricMechanism(dp.GeometricMechanism):\n",
    "    def __init__(self):\n",
    "        super().__init__()\n",
    "        self.shape = None\n",
    "        \n",
    "    def randomise(self, value):\n",
    "        self.check_inputs(value)\n",
    "        \n",
    "        if self.shape is None:\n",
    "            self.shape = - self.epsilon / self.sensitivity\n",
    "\n",
    "        u = random() - 0.5 \n",
    "        u *= 1 + np.exp(self.shape)\n",
    "        sgn = -1 if u < 0 else 1\n",
    "        \n",
    "        return int(value + sgn * np.floor(np.log(sgn * u) / self.shape))"
   ]
  },
  {
   "cell_type": "code",
   "execution_count": 42,
   "metadata": {},
   "outputs": [],
   "source": [
    "newGeomMech = newGeometricMechanism().set_epsilon(1).set_sensitivity(1)\n",
    "oldGeomMech = dp.GeometricMechanism().set_epsilon(1).set_sensitivity(1)"
   ]
  },
  {
   "cell_type": "code",
   "execution_count": 44,
   "metadata": {},
   "outputs": [
    {
     "name": "stdout",
     "output_type": "stream",
     "text": [
      "Time (new): 8.386240\n",
      "Time (old): 12.341837\n"
     ]
    }
   ],
   "source": [
    "newGeomVals = np.zeros(1000000)\n",
    "oldGeomVals = np.zeros(newGeomVals.size)\n",
    "\n",
    "tic = time()\n",
    "newGeomVals = [newGeomMech.randomise(2) for x in newGeomVals]\n",
    "print(\"Time (new): %f\" % (time() - tic))\n",
    "\n",
    "tic = time()\n",
    "oldGeomVals = [oldGeomMech.old_randomise(2) for x in oldGeomVals]\n",
    "print(\"Time (old): %f\" % (time() - tic))\n",
    "    \n",
    "newGeomHist = np.histogram(newGeomVals, bins=np.arange(min(newGeomVals), max(newGeomVals)+1))\n",
    "oldGeomHist = np.histogram(oldGeomVals, bins=np.arange(min(oldGeomVals), max(oldGeomVals)+1))"
   ]
  },
  {
   "cell_type": "code",
   "execution_count": 45,
   "metadata": {},
   "outputs": [
    {
     "data": {
      "image/png": "[encoded data removed]",
      "text/plain": [
       "<Figure size 432x288 with 1 Axes>"
      ]
     },
     "metadata": {},
     "output_type": "display_data"
    }
   ],
   "source": [
    "width = 0.45\n",
    "plt.bar(newGeomHist[1][:-1] - width/2, newGeomHist[0], width, label=\"New code\")\n",
    "plt.bar(oldGeomHist[1][:-1] + width/2, oldGeomHist[0], width, label=\"Old code\")\n",
    "plt.legend()\n",
    "plt.show()"
   ]
  },
  {
   "cell_type": "code",
   "execution_count": 46,
   "metadata": {
    "scrolled": true
   },
   "outputs": [
    {
     "name": "stdout",
     "output_type": "stream",
     "text": [
      "Prediction: 170141, Lower: 170183 (-0.024510%), Upper: 169832 (0.181789%)\n",
      "Prediction: 170188, Lower: 169664 (0.307906%), Upper: 169520 (0.392518%)\n"
     ]
    }
   ],
   "source": [
    "for _vals in [oldGeomHist, newGeomHist]:\n",
    "    i = np.where(_vals[1]==2)[0][0]\n",
    "    pred = _vals[0][i] * np.exp(-1)\n",
    "    print(\"Prediction: %d, Lower: %d (%f%%), Upper: %d (%f%%)\" %\\\n",
    "          (int(pred), _vals[0][i-1], (pred - _vals[0][i-1]) * 100 / pred, \n",
    "           _vals[0][i+1], (pred - _vals[0][i+1]) * 100 / pred))\n",
    "# oldGeomHist[0][i-1], oldGeomHist[0][i] * np.exp(-1), oldGeomHist[0][i+1]"
   ]
  },
  {
   "cell_type": "code",
   "execution_count": 47,
   "metadata": {},
   "outputs": [
    {
     "data": {
      "text/plain": [
       "(169664, 170188.01919529148, 169520)"
      ]
     },
     "execution_count": 47,
     "metadata": {},
     "output_type": "execute_result"
    }
   ],
   "source": [
    "i = np.where(newGeomHist[1]==2)[0][0]\n",
    "newGeomHist[0][i-1], newGeomHist[0][i] * np.exp(-1), newGeomHist[0][i+1]"
   ]
  },
  {
   "cell_type": "code",
   "execution_count": 48,
   "metadata": {},
   "outputs": [
    {
     "data": {
      "text/plain": [
       "(array([     2,      2,      9,     22,     53,    145,    413,   1150,\n",
       "          3203,   8418,  22790,  62892, 170183, 462492, 169832,  62094,\n",
       "         23084,   8398,   3093,   1060,    425,    149,     54,     29,\n",
       "             4,      4]),\n",
       " array([7.35758882e-01, 7.35758882e-01, 3.31091497e+00, 8.09334771e+00,\n",
       "        1.94976104e+01, 5.33425190e+01, 1.51934209e+02, 4.23061357e+02,\n",
       "        1.17831785e+03, 3.09680914e+03, 8.38397246e+03, 2.31366738e+04,\n",
       "        6.26068269e+04, 1.70141299e+05, 6.24777013e+04, 2.28431060e+04,\n",
       "        8.49212902e+03, 3.08945155e+03, 1.13785111e+03, 3.89952208e+02,\n",
       "        1.56348762e+02, 5.48140367e+01, 1.98654898e+01, 1.06685038e+01,\n",
       "        1.47151776e+00, 1.47151776e+00]))"
      ]
     },
     "execution_count": 48,
     "metadata": {},
     "output_type": "execute_result"
    }
   ],
   "source": [
    "oldGeomHist[0], oldGeomHist[0] * np.exp(-1)"
   ]
  },
  {
   "cell_type": "code",
   "execution_count": 49,
   "metadata": {},
   "outputs": [
    {
     "data": {
      "text/plain": [
       "(array([     1,      3,      2,     11,     30,     59,    128,    433,\n",
       "          1108,   3068,   8553,  23066,  62553, 169664, 462619, 169520,\n",
       "         62715,  23076,   8437,   3091,   1159,    451,    161,     62,\n",
       "            18,      8,      2,      1,      0,      1]),\n",
       " array([3.67879441e-01, 1.10363832e+00, 7.35758882e-01, 4.04667385e+00,\n",
       "        1.10363832e+01, 2.17048870e+01, 4.70885685e+01, 1.59291798e+02,\n",
       "        4.07610421e+02, 1.12865413e+03, 3.14647286e+03, 8.48550719e+03,\n",
       "        2.30119627e+04, 6.24158975e+04, 1.70188019e+05, 6.23629229e+04,\n",
       "        2.30715592e+04, 8.48918598e+03, 3.10379885e+03, 1.13711535e+03,\n",
       "        4.26372272e+02, 1.65913628e+02, 5.92285900e+01, 2.28085254e+01,\n",
       "        6.62182994e+00, 2.94303553e+00, 7.35758882e-01, 3.67879441e-01,\n",
       "        0.00000000e+00, 3.67879441e-01]))"
      ]
     },
     "execution_count": 49,
     "metadata": {},
     "output_type": "execute_result"
    }
   ],
   "source": [
    "newGeomHist[0], newGeomHist[0] * np.exp(-1)"
   ]
  }
 ],
 "metadata": {
  "kernelspec": {
   "display_name": "Python 3",
   "language": "python",
   "name": "python3"
  },
  "language_info": {
   "codemirror_mode": {
    "name": "ipython",
    "version": 3
   },
   "file_extension": ".py",
   "mimetype": "text/x-python",
   "name": "python",
   "nbconvert_exporter": "python",
   "pygments_lexer": "ipython3",
   "version": "3.6.6"
  }
 },
 "nbformat": 4,
 "nbformat_minor": 2
}
